{
 "cells": [
  {
   "cell_type": "code",
   "execution_count": 4,
   "metadata": {},
   "outputs": [],
   "source": [
    "import pandas as pd\n",
    "\n",
    "file = \"dataset_csv.csv\""
   ]
  },
  {
   "cell_type": "code",
   "execution_count": 7,
   "metadata": {},
   "outputs": [
    {
     "data": {
      "text/html": [
       "<div>\n",
       "<style scoped>\n",
       "    .dataframe tbody tr th:only-of-type {\n",
       "        vertical-align: middle;\n",
       "    }\n",
       "\n",
       "    .dataframe tbody tr th {\n",
       "        vertical-align: top;\n",
       "    }\n",
       "\n",
       "    .dataframe thead th {\n",
       "        text-align: right;\n",
       "    }\n",
       "</style>\n",
       "<table border=\"1\" class=\"dataframe\">\n",
       "  <thead>\n",
       "    <tr style=\"text-align: right;\">\n",
       "      <th></th>\n",
       "      <th>absolute path</th>\n",
       "      <th>class name</th>\n",
       "    </tr>\n",
       "  </thead>\n",
       "  <tbody>\n",
       "    <tr>\n",
       "      <th>0</th>\n",
       "      <td>C:\\Users\\sgold\\VS Code projects\\dataset\\cat\\00...</td>\n",
       "      <td>cat</td>\n",
       "    </tr>\n",
       "    <tr>\n",
       "      <th>1</th>\n",
       "      <td>C:\\Users\\sgold\\VS Code projects\\dataset\\cat\\00...</td>\n",
       "      <td>cat</td>\n",
       "    </tr>\n",
       "    <tr>\n",
       "      <th>2</th>\n",
       "      <td>C:\\Users\\sgold\\VS Code projects\\dataset\\cat\\00...</td>\n",
       "      <td>cat</td>\n",
       "    </tr>\n",
       "    <tr>\n",
       "      <th>3</th>\n",
       "      <td>C:\\Users\\sgold\\VS Code projects\\dataset\\cat\\00...</td>\n",
       "      <td>cat</td>\n",
       "    </tr>\n",
       "    <tr>\n",
       "      <th>4</th>\n",
       "      <td>C:\\Users\\sgold\\VS Code projects\\dataset\\cat\\00...</td>\n",
       "      <td>cat</td>\n",
       "    </tr>\n",
       "    <tr>\n",
       "      <th>...</th>\n",
       "      <td>...</td>\n",
       "      <td>...</td>\n",
       "    </tr>\n",
       "    <tr>\n",
       "      <th>2322</th>\n",
       "      <td>C:\\Users\\sgold\\VS Code projects\\dataset\\dog\\14...</td>\n",
       "      <td>dog</td>\n",
       "    </tr>\n",
       "    <tr>\n",
       "      <th>2323</th>\n",
       "      <td>C:\\Users\\sgold\\VS Code projects\\dataset\\dog\\14...</td>\n",
       "      <td>dog</td>\n",
       "    </tr>\n",
       "    <tr>\n",
       "      <th>2324</th>\n",
       "      <td>C:\\Users\\sgold\\VS Code projects\\dataset\\dog\\14...</td>\n",
       "      <td>dog</td>\n",
       "    </tr>\n",
       "    <tr>\n",
       "      <th>2325</th>\n",
       "      <td>C:\\Users\\sgold\\VS Code projects\\dataset\\dog\\14...</td>\n",
       "      <td>dog</td>\n",
       "    </tr>\n",
       "    <tr>\n",
       "      <th>2326</th>\n",
       "      <td>C:\\Users\\sgold\\VS Code projects\\dataset\\dog\\14...</td>\n",
       "      <td>dog</td>\n",
       "    </tr>\n",
       "  </tbody>\n",
       "</table>\n",
       "<p>2327 rows × 2 columns</p>\n",
       "</div>"
      ],
      "text/plain": [
       "                                          absolute path    class name\n",
       "0     C:\\Users\\sgold\\VS Code projects\\dataset\\cat\\00...           cat\n",
       "1     C:\\Users\\sgold\\VS Code projects\\dataset\\cat\\00...           cat\n",
       "2     C:\\Users\\sgold\\VS Code projects\\dataset\\cat\\00...           cat\n",
       "3     C:\\Users\\sgold\\VS Code projects\\dataset\\cat\\00...           cat\n",
       "4     C:\\Users\\sgold\\VS Code projects\\dataset\\cat\\00...           cat\n",
       "...                                                 ...           ...\n",
       "2322  C:\\Users\\sgold\\VS Code projects\\dataset\\dog\\14...           dog\n",
       "2323  C:\\Users\\sgold\\VS Code projects\\dataset\\dog\\14...           dog\n",
       "2324  C:\\Users\\sgold\\VS Code projects\\dataset\\dog\\14...           dog\n",
       "2325  C:\\Users\\sgold\\VS Code projects\\dataset\\dog\\14...           dog\n",
       "2326  C:\\Users\\sgold\\VS Code projects\\dataset\\dog\\14...           dog\n",
       "\n",
       "[2327 rows x 2 columns]"
      ]
     },
     "execution_count": 7,
     "metadata": {},
     "output_type": "execute_result"
    }
   ],
   "source": [
    "df = pd.read_csv (\n",
    "    file, sep=\";\", names=[\"absolute path\", \"relative path\", \"   class name\"]\n",
    ")\n",
    "df = df.drop([\"relative path\"], axis=1)\n",
    "df"
   ]
  }
 ],
 "metadata": {
  "kernelspec": {
   "display_name": "Python 3",
   "language": "python",
   "name": "python3"
  },
  "language_info": {
   "codemirror_mode": {
    "name": "ipython",
    "version": 3
   },
   "file_extension": ".py",
   "mimetype": "text/x-python",
   "name": "python",
   "nbconvert_exporter": "python",
   "pygments_lexer": "ipython3",
   "version": "3.10.9"
  },
  "orig_nbformat": 4,
  "vscode": {
   "interpreter": {
    "hash": "bda484c92a0c404c6812e073e3612c3bb7dbf4b8a9cd7e6d7aa247e42ff4b21f"
   }
  }
 },
 "nbformat": 4,
 "nbformat_minor": 2
}
